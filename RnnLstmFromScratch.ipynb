{
 "cells": [
  {
   "cell_type": "code",
   "execution_count": null,
   "metadata": {},
   "outputs": [],
   "source": [
    "import numpy as np\n",
    "\n",
    "input_size = 2\n",
    "hidden_size = 2\n",
    "sequence_length = 3\n",
    "\n",
    "Wx = np.random.randn(hidden_size, input_size)\n",
    "Wh = np.random.randn(hidden_size, hidden_size)\n",
    "b = np.zeros((hidden_size, 1))\n",
    "\n",
    "x = np.array([[0.1, 0.2], [0.4, 0.5], [0.7, 0.8]]).T\n",
    "h_prev = np.zeros((hidden_size, 1))\n",
    "\n",
    "for t in range(sequence_length):\n",
    "    x_t = x[:, [t]]\n",
    "    h_t = np.tanh(np.dot(Wx, x_t) + np.dot(Wh, h_prev) + b)\n",
    "    h_prev = h_t\n",
    "    y_pred = h_t\n",
    "    print(f'Time step {t + 1} - Hidden State: {h_t.ravel()} - Prediction: {y_pred.ravel()}')"
   ]
  },
  {
   "cell_type": "code",
   "execution_count": 1,
   "metadata": {},
   "outputs": [
    {
     "name": "stdout",
     "output_type": "stream",
     "text": [
      "Time step 1 - Hidden State: [-0.04773709  0.05396321  0.06330503 -0.08551432] - Prediction: [-0.04773709  0.05396321  0.06330503 -0.08551432]\n",
      "Time step 2 - Hidden State: [-0.11366079  0.11384801  0.22786951 -0.16817604] - Prediction: [-0.11366079  0.11384801  0.22786951 -0.16817604]\n",
      "Time step 3 - Hidden State: [-0.1587617   0.17491268  0.4110895  -0.21864903] - Prediction: [-0.1587617   0.17491268  0.4110895  -0.21864903]\n"
     ]
    }
   ],
   "source": [
    "import numpy as np\n",
    "\n",
    "sigmoid = lambda x: np.exp(x) / (1 + np.exp(x))\n",
    "\n",
    "input_size = 3\n",
    "hidden_size = 4\n",
    "sequence_length = 3\n",
    "\n",
    "Wf = np.random.randn(hidden_size, hidden_size + input_size)\n",
    "Wi = np.random.randn(hidden_size, hidden_size + input_size)\n",
    "Wo = np.random.randn(hidden_size, hidden_size + input_size)\n",
    "Wc = np.random.randn(hidden_size, hidden_size + input_size)\n",
    "\n",
    "bf = np.zeros((hidden_size, 1))\n",
    "bi = np.zeros((hidden_size, 1))\n",
    "bo = np.zeros((hidden_size, 1))\n",
    "bc = np.zeros((hidden_size, 1))\n",
    "\n",
    "x = np.array([[0.1, 0.2, 0.3], [0.4, 0.5, 0.6], [0.7, 0.8, 0.9]]).T\n",
    "h_prev = np.zeros((hidden_size, 1))\n",
    "c_prev = np.zeros((hidden_size, 1))\n",
    "\n",
    "for t in range(sequence_length):\n",
    "    x_t = x[:, [t]]\n",
    "    concat = np.vstack((h_prev, x_t))\n",
    "    ft = sigmoid(np.dot(Wf, concat) + bf)\n",
    "    it = sigmoid(np.dot(Wi, concat) + bi)\n",
    "    ot = sigmoid(np.dot(Wo, concat) + bo)\n",
    "    C_tilde = np.tanh(np.dot(Wc, concat) + bc)\n",
    "    c_t = ft * c_prev + it * C_tilde\n",
    "    h_t = ot * np.tanh(c_t)\n",
    "    h_prev = h_t\n",
    "    c_prev = c_t\n",
    "    y_pred = h_t\n",
    "    print(f'Time step {t + 1} - Hidden State: {h_t.ravel()} - Prediction: {y_pred.ravel()}')\n"
   ]
  }
 ],
 "metadata": {
  "kernelspec": {
   "display_name": "Python 3",
   "language": "python",
   "name": "python3"
  },
  "language_info": {
   "codemirror_mode": {
    "name": "ipython",
    "version": 3
   },
   "file_extension": ".py",
   "mimetype": "text/x-python",
   "name": "python",
   "nbconvert_exporter": "python",
   "pygments_lexer": "ipython3",
   "version": "3.10.12"
  }
 },
 "nbformat": 4,
 "nbformat_minor": 2
}
